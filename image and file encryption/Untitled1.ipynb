{
 "cells": [
  {
   "cell_type": "code",
   "execution_count": 1,
   "id": "e5b13553-c6e9-4a8d-af84-3c5bec06dc98",
   "metadata": {},
   "outputs": [
    {
     "name": "stdout",
     "output_type": "stream",
     "text": [
      "Defaulting to user installation because normal site-packages is not writeable\n",
      "Requirement already satisfied: pycryptodome in c:\\users\\house\\appdata\\roaming\\python\\python311\\site-packages (3.20.0)\n",
      "Note: you may need to restart the kernel to use updated packages.\n"
     ]
    }
   ],
   "source": [
    "pip install pycryptodome"
   ]
  },
  {
   "cell_type": "code",
   "execution_count": 2,
   "id": "8aab53f8-9caf-4cbb-8a8c-e7af255848ed",
   "metadata": {},
   "outputs": [],
   "source": [
    "from Crypto.Cipher import DES3\n",
    "from hashlib import md5"
   ]
  },
  {
   "cell_type": "code",
   "execution_count": 7,
   "id": "d0ebda2c-540f-4e8c-8afa-395e2abb5717",
   "metadata": {
    "scrolled": true
   },
   "outputs": [
    {
     "name": "stdout",
     "output_type": "stream",
     "text": [
      "Choose operation: \n",
      "\t 1. Encrypt \n",
      "\t 2. Decrypt\n",
      "Your choice: 2\n",
      "File path: images.jpeg\n",
      "TDES key: be\n",
      "Done\n"
     ]
    }
   ],
   "source": [
    "while True:\n",
    "    print('Choose operation: \\n\\t 1. Encrypt \\n\\t 2. Decrypt')\n",
    "    op = input('Your choice: ')\n",
    "    if op not in ['1','2']:\n",
    "        break\n",
    "\n",
    "    file_path = input('File path: ')\n",
    "    key = input('TDES key: ')\n",
    "    key_hash = md5(key.encode('ascii')).digest()\n",
    "    tdes_key = DES3.adjust_key_parity(key_hash)\n",
    "\n",
    "    cipher = DES3.new(tdes_key, DES3.MODE_EAX, nonce = b'0')\n",
    "\n",
    "    with open(file_path, 'rb') as input_file:\n",
    "        file_bytes = input_file.read()\n",
    "\n",
    "        if op == '1':\n",
    "            new_file_bytes = cipher.encrypt(file_bytes)\n",
    "        else:\n",
    "            new_file_bytes = cipher.decrypt(file_bytes)\n",
    "\n",
    "    with open(file_path, 'wb') as output_file:\n",
    "        output_file.write(new_file_bytes)\n",
    "        print('Done')\n",
    "        break"
   ]
  },
  {
   "cell_type": "code",
   "execution_count": null,
   "id": "e00822d3-4fd2-4673-b4fd-87e1bd61a578",
   "metadata": {},
   "outputs": [],
   "source": []
  }
 ],
 "metadata": {
  "kernelspec": {
   "display_name": "Python 3 (ipykernel)",
   "language": "python",
   "name": "python3"
  },
  "language_info": {
   "codemirror_mode": {
    "name": "ipython",
    "version": 3
   },
   "file_extension": ".py",
   "mimetype": "text/x-python",
   "name": "python",
   "nbconvert_exporter": "python",
   "pygments_lexer": "ipython3",
   "version": "3.11.7"
  }
 },
 "nbformat": 4,
 "nbformat_minor": 5
}
